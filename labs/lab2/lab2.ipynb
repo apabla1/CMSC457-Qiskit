{
 "cells": [
  {
   "attachments": {},
   "cell_type": "markdown",
   "metadata": {},
   "source": [
    "# Lab2\n",
    "\n",
    "## What we're going to cover\n",
    "- Deutsch-Josza algorithm\n",
    "- Solving Sudoku using Grover's Algorithm"
   ]
  },
  {
   "attachments": {},
   "cell_type": "markdown",
   "metadata": {},
   "source": [
    "---\n",
    "## Deutsch's Algorithm\n",
    "\n",
    "We have a black box circuit to apply to one bit $x$, that performs the mapping\n",
    "$$|x,y\\rangle \\mapsto |x,y \\oplus f(x)\\rangle,$$\n",
    "where $f(x)$ is also a single bit.\n",
    "\n",
    "We want to learn whether $f(x)$ is _constant_ or _balanced_. A constant function outputs $0$ for all inputs or $1$ for all inputs. A balanced function outputs $0$ on half of the inputs and $1$ on the other half.\n",
    "\n",
    "### Classical Solution\n",
    "\n",
    "Classically, in the best case, two queries to the oracle can determine if the hidden Boolean function, $f(x)$, is balanced: e.g. if we get both $f(x_1)=0$ and $f(x_2)=1$ for some $x_1,x_2$, then we know the function is balanced as we have obtained the two different outputs.\n",
    "\n",
    "In the worst case, if we continue to see the same output for each input we try, we will have to check exactly half of all possible inputs plus one in order to be certain that $f(x)$ is constant (i.e. $O(N/2)$)."
   ]
  },
  {
   "attachments": {},
   "cell_type": "markdown",
   "metadata": {},
   "source": [
    "### Quantum Solution\n",
    "\n",
    "Using a quantum computer, we can solve this problem with 100% confidence after only one call to the function $f(x)$, provided we have the function $f$ implemented as a quantum oracle, which maps the state $|x,y\\rangle \\mapsto |x,y \\oplus f(x)\\rangle$\n",
    "![](deutsch_steps.png)"
   ]
  },
  {
   "cell_type": "code",
   "execution_count": 1,
   "metadata": {},
   "outputs": [],
   "source": [
    "# initialization\n",
    "import numpy as np\n",
    "\n",
    "# importing Qiskit\n",
    "from qiskit import QuantumCircuit, QuantumRegister, ClassicalRegister\n",
    "\n",
    "# import basic plot tools\n",
    "from qiskit.visualization import plot_histogram\n"
   ]
  },
  {
   "attachments": {},
   "cell_type": "markdown",
   "metadata": {},
   "source": [
    "Let's start by creating a constant oracle, in this case the input has no effect on the output so we just randomly set the output qubit to be 0 or 1:"
   ]
  },
  {
   "cell_type": "code",
   "execution_count": 2,
   "metadata": {},
   "outputs": [
    {
     "data": {
      "text/html": [
       "<pre style=\"word-wrap: normal;white-space: pre;background: #fff0;line-height: 1.1;font-family: &quot;Courier New&quot;,Courier,monospace\">     \n",
       "q_0: \n",
       "     \n",
       "q_1: \n",
       "     \n",
       "q_2: \n",
       "     \n",
       "q_3: \n",
       "     </pre>"
      ],
      "text/plain": [
       "     \n",
       "q_0: \n",
       "     \n",
       "q_1: \n",
       "     \n",
       "q_2: \n",
       "     \n",
       "q_3: \n",
       "     "
      ]
     },
     "execution_count": 2,
     "metadata": {},
     "output_type": "execute_result"
    }
   ],
   "source": [
    "# set the length of the n-bit input string. \n",
    "n = 3\n",
    "\n",
    "const_oracle = QuantumCircuit(n+1)\n",
    "\n",
    "output = np.random.randint(2)\n",
    "if output == 1:\n",
    "    const_oracle.x(n)\n",
    "\n",
    "const_oracle.draw()"
   ]
  },
  {
   "attachments": {},
   "cell_type": "markdown",
   "metadata": {},
   "source": [
    "We can also create a balance oracle"
   ]
  },
  {
   "cell_type": "code",
   "execution_count": 3,
   "metadata": {},
   "outputs": [
    {
     "data": {
      "text/html": [
       "<pre style=\"word-wrap: normal;white-space: pre;background: #fff0;line-height: 1.1;font-family: &quot;Courier New&quot;,Courier,monospace\">     ┌───┐ ░                 ░ ┌───┐\n",
       "q_0: ┤ X ├─░───■─────────────░─┤ X ├\n",
       "     └───┘ ░   │             ░ └───┘\n",
       "q_1: ──────░───┼────■────────░──────\n",
       "     ┌───┐ ░   │    │        ░ ┌───┐\n",
       "q_2: ┤ X ├─░───┼────┼────■───░─┤ X ├\n",
       "     └───┘ ░ ┌─┴─┐┌─┴─┐┌─┴─┐ ░ └───┘\n",
       "q_3: ──────░─┤ X ├┤ X ├┤ X ├─░──────\n",
       "           ░ └───┘└───┘└───┘ ░      </pre>"
      ],
      "text/plain": [
       "     ┌───┐ ░                 ░ ┌───┐\n",
       "q_0: ┤ X ├─░───■─────────────░─┤ X ├\n",
       "     └───┘ ░   │             ░ └───┘\n",
       "q_1: ──────░───┼────■────────░──────\n",
       "     ┌───┐ ░   │    │        ░ ┌───┐\n",
       "q_2: ┤ X ├─░───┼────┼────■───░─┤ X ├\n",
       "     └───┘ ░ ┌─┴─┐┌─┴─┐┌─┴─┐ ░ └───┘\n",
       "q_3: ──────░─┤ X ├┤ X ├┤ X ├─░──────\n",
       "           ░ └───┘└───┘└───┘ ░      "
      ]
     },
     "execution_count": 3,
     "metadata": {},
     "output_type": "execute_result"
    }
   ],
   "source": [
    "balanced_oracle = QuantumCircuit(n+1)\n",
    "b_str = \"101\"\n",
    "\n",
    "# Place X-gates\n",
    "for qubit in range(len(b_str)):\n",
    "    if b_str[qubit] == '1':\n",
    "        balanced_oracle.x(qubit)\n",
    "\n",
    "# Use barrier as divider\n",
    "balanced_oracle.barrier()\n",
    "\n",
    "# Controlled-NOT gates\n",
    "for qubit in range(n):\n",
    "    balanced_oracle.cx(qubit, n)\n",
    "\n",
    "balanced_oracle.barrier()\n",
    "\n",
    "# Place X-gates\n",
    "for qubit in range(len(b_str)):\n",
    "    if b_str[qubit] == '1':\n",
    "        balanced_oracle.x(qubit)\n",
    "\n",
    "# Show oracle\n",
    "balanced_oracle.draw()"
   ]
  },
  {
   "attachments": {},
   "cell_type": "markdown",
   "metadata": {},
   "source": [
    "Let's now put everything together. This first step in the algorithm is to initialize the input qubits in the state $\\ket{+}$ and the output qubit in the state $\\ket{-}$"
   ]
  },
  {
   "cell_type": "code",
   "execution_count": 4,
   "metadata": {},
   "outputs": [
    {
     "data": {
      "text/html": [
       "<pre style=\"word-wrap: normal;white-space: pre;background: #fff0;line-height: 1.1;font-family: &quot;Courier New&quot;,Courier,monospace\">     ┌───┐     \n",
       "q_0: ┤ H ├─────\n",
       "     ├───┤     \n",
       "q_1: ┤ H ├─────\n",
       "     ├───┤     \n",
       "q_2: ┤ H ├─────\n",
       "     ├───┤┌───┐\n",
       "q_3: ┤ X ├┤ H ├\n",
       "     └───┘└───┘\n",
       "c: 3/══════════\n",
       "               </pre>"
      ],
      "text/plain": [
       "     ┌───┐     \n",
       "q_0: ┤ H ├─────\n",
       "     ├───┤     \n",
       "q_1: ┤ H ├─────\n",
       "     ├───┤     \n",
       "q_2: ┤ H ├─────\n",
       "     ├───┤┌───┐\n",
       "q_3: ┤ X ├┤ H ├\n",
       "     └───┘└───┘\n",
       "c: 3/══════════\n",
       "               "
      ]
     },
     "execution_count": 4,
     "metadata": {},
     "output_type": "execute_result"
    }
   ],
   "source": [
    "dj_circuit = QuantumCircuit(n+1, n)\n",
    "\n",
    "# Apply H-gates\n",
    "for qubit in range(n):\n",
    "    dj_circuit.h(qubit)\n",
    "\n",
    "# Put qubit in state |->\n",
    "dj_circuit.x(n)\n",
    "dj_circuit.h(n)\n",
    "dj_circuit.draw()"
   ]
  },
  {
   "attachments": {},
   "cell_type": "markdown",
   "metadata": {},
   "source": [
    "Next, let's apply the oracle. Here we apply the constant oracle."
   ]
  },
  {
   "cell_type": "code",
   "execution_count": 5,
   "metadata": {},
   "outputs": [
    {
     "data": {
      "text/html": [
       "<pre style=\"word-wrap: normal;white-space: pre;background: #fff0;line-height: 1.1;font-family: &quot;Courier New&quot;,Courier,monospace\">     ┌───┐     \n",
       "q_0: ┤ H ├─────\n",
       "     ├───┤     \n",
       "q_1: ┤ H ├─────\n",
       "     ├───┤     \n",
       "q_2: ┤ H ├─────\n",
       "     ├───┤┌───┐\n",
       "q_3: ┤ X ├┤ H ├\n",
       "     └───┘└───┘\n",
       "c: 3/══════════\n",
       "               </pre>"
      ],
      "text/plain": [
       "     ┌───┐     \n",
       "q_0: ┤ H ├─────\n",
       "     ├───┤     \n",
       "q_1: ┤ H ├─────\n",
       "     ├───┤     \n",
       "q_2: ┤ H ├─────\n",
       "     ├───┤┌───┐\n",
       "q_3: ┤ X ├┤ H ├\n",
       "     └───┘└───┘\n",
       "c: 3/══════════\n",
       "               "
      ]
     },
     "execution_count": 5,
     "metadata": {},
     "output_type": "execute_result"
    }
   ],
   "source": [
    "dj_circuit = QuantumCircuit(n+1, n)\n",
    "\n",
    "# Apply H-gates\n",
    "for qubit in range(n):\n",
    "    dj_circuit.h(qubit)\n",
    "\n",
    "# Put qubit in state |->\n",
    "dj_circuit.x(n)\n",
    "dj_circuit.h(n)\n",
    "\n",
    "# Add oracle\n",
    "dj_circuit=dj_circuit.compose(const_oracle) \n",
    "dj_circuit.draw()"
   ]
  },
  {
   "attachments": {},
   "cell_type": "markdown",
   "metadata": {},
   "source": [
    "Finally, we perform H-gates on the $n$-input qubits, and measure our input register:"
   ]
  },
  {
   "cell_type": "code",
   "execution_count": 6,
   "metadata": {},
   "outputs": [
    {
     "data": {
      "text/html": [
       "<pre style=\"word-wrap: normal;white-space: pre;background: #fff0;line-height: 1.1;font-family: &quot;Courier New&quot;,Courier,monospace\">     ┌───┐┌───┐ ░ ┌─┐      \n",
       "q_0: ┤ H ├┤ H ├─░─┤M├──────\n",
       "     ├───┤├───┤ ░ └╥┘┌─┐   \n",
       "q_1: ┤ H ├┤ H ├─░──╫─┤M├───\n",
       "     ├───┤├───┤ ░  ║ └╥┘┌─┐\n",
       "q_2: ┤ H ├┤ H ├─░──╫──╫─┤M├\n",
       "     ├───┤├───┤ ░  ║  ║ └╥┘\n",
       "q_3: ┤ X ├┤ H ├─░──╫──╫──╫─\n",
       "     └───┘└───┘ ░  ║  ║  ║ \n",
       "c: 3/══════════════╩══╩══╩═\n",
       "                   0  1  2 </pre>"
      ],
      "text/plain": [
       "     ┌───┐┌───┐ ░ ┌─┐      \n",
       "q_0: ┤ H ├┤ H ├─░─┤M├──────\n",
       "     ├───┤├───┤ ░ └╥┘┌─┐   \n",
       "q_1: ┤ H ├┤ H ├─░──╫─┤M├───\n",
       "     ├───┤├───┤ ░  ║ └╥┘┌─┐\n",
       "q_2: ┤ H ├┤ H ├─░──╫──╫─┤M├\n",
       "     ├───┤├───┤ ░  ║  ║ └╥┘\n",
       "q_3: ┤ X ├┤ H ├─░──╫──╫──╫─\n",
       "     └───┘└───┘ ░  ║  ║  ║ \n",
       "c: 3/══════════════╩══╩══╩═\n",
       "                   0  1  2 "
      ]
     },
     "execution_count": 6,
     "metadata": {},
     "output_type": "execute_result"
    }
   ],
   "source": [
    "\n",
    "# Repeat H-gates\n",
    "for qubit in range(n):\n",
    "    dj_circuit.h(qubit)\n",
    "dj_circuit.barrier()\n",
    "\n",
    "# Measure\n",
    "for i in range(n):\n",
    "    dj_circuit.measure(i, i)\n",
    "\n",
    "# Display circuit\n",
    "dj_circuit.draw()"
   ]
  },
  {
   "attachments": {},
   "cell_type": "markdown",
   "metadata": {},
   "source": [
    "Let's see the output:"
   ]
  },
  {
   "cell_type": "code",
   "execution_count": 7,
   "metadata": {},
   "outputs": [
    {
     "name": "stdout",
     "output_type": "stream",
     "text": [
      "{'000': 10000}\n"
     ]
    }
   ],
   "source": [
    "# use local simulator\n",
    "from qiskit_aer import AerSimulator\n",
    "\n",
    "simulator = AerSimulator()\n",
    "result = simulator.run(dj_circuit,shots=10000).result()\n",
    "counts = result.get_counts(dj_circuit)\n",
    "print(counts)"
   ]
  },
  {
   "attachments": {},
   "cell_type": "markdown",
   "metadata": {},
   "source": [
    "# Grover's algorithm Review\n",
    "\n",
    "Grover's algorithm is arguably one of the canonical quantum algorithms that kick-started the field of quantum computing. In the future, it could possibly serve as a hallmark application of quantum computing. Grover's algorithm allows us to find a particular register in an unordered database with $N$ entries in just $O(\\sqrt{N})$ steps, compared to the best classical algorithm taking on average $N/2$ steps, thereby providing a __quadratic speedup__.\n",
    "\n",
    "Research has been shown that any optimal quantum solution to an unstructured search problem has a speed limit of $O(\\sqrt{N})$ runtime. This research finding matches the performance of Grover's algorithm, thus proving that the algorithm is asymptotically optimal [2]. In fact, Grover's algorithm can be generalized to accelerate any type of search where one can construct a quantum oracle, as described in the next section. \n",
    "\n",
    "Consider the following problem [2]: \n",
    "In a search space with $N$ elements, we are searching the index of those elements, which is a number in the range $0, 1, \\dots, N-1$. \n",
    "We have $n$ bits at our disposal, with which we can store up to $2^{n}$ elements. \n",
    "Our search problem can then be expressed with the help of a function $f$, which takes as input an element out of our set of indices (that is, an integer $x$) and generates two possible outputs: $f(x^{*})=1$, if $x^{*}$ is the solution to the search problem or $f(x)=0$ otherwise (if $N<2^{n}$ we can just set $f(x)=0$ for all extra unused elements). \n",
    "This is done with the help of a quantum oracle, which recognizes solutions to the search problem. "
   ]
  },
  {
   "attachments": {},
   "cell_type": "markdown",
   "metadata": {},
   "source": [
    "# Anatomy of Grover's Algorithm <a name=\"steps\"></a>\n",
    "\n",
    "1. **Initialize**: Start with a uniform superposition of all possible bit strings by applying Hadamard gates. This will result in all inputs having the same amplitude. Since we do not have any prior knowledge about the solution, we initialize to an equal superposition of all possible candidate solutions. \n",
    "\n",
    "2. **Oracle**: Item bits are then passed through an oracle. The oracle produces only two results. If it detects the target item, its amplitude will be flipped to negative. For all other items, their amplitudes will remain positive. Because the oracle is specifically engineered to change amplitudes based on a certain bit pattern, each target item would have its own associated oracle.\n",
    "\n",
    "To create an Grover search oracle, recall that we need our circuit $U_w$ to perform the transformation:\n",
    "$$\n",
    "U_w |x\\rangle  \\mapsto \\begin{cases}\n",
    "|x\\rangle , x\\neq w\\\\\n",
    "-|x\\rangle, x=w\\\\\n",
    "\\end{cases}\n",
    "$$\n",
    "\n",
    "3. **Amplification**: While the oracle in step 2 distinguishes the target item by flipping its amplitude in the negative direction, this difference remains too small to detect. Hence, we use a trick to magnify the difference in amplitudes; by flipping every amplitude around the mean amplitude. Recall that only the target item's amplitude was flipped to negative. In other words, the mean amplitude would still be positive, and its value would only be slightly lower than the amplitudes of other items. By flipping all amplitudes about the mean, the amplitudes of non-target items would decrease only slightly. On the other hand, the amplitude of the target item, being much less than the mean value to start, would be reflected back up into the positive direction by a large margin.\n",
    "\n",
    "4. **Repeat**: By repeating steps 2 and 3, we can magnify the amplitude of the target item to a point where it can be identified with overwhelming probability. To get to this point, we need to repeat these steps approximately $\\sqrt{N}$ times (again assuming a single solution and large $N$). As discussed in more detail in our Quantum Amplification Algorithm (QAA) tutorial, to ensure we measure a solution with high probability, we apply the Grover iterator $\\left\\lfloor\\frac{\\pi}{4\\theta}\\right\\rfloor=\\left\\lfloor\\frac{\\pi}{4}\\sqrt{\\frac{N}{G}}\\right\\rfloor$ times, with $G$ denoting the number of solutions. Since we may not know $G$ in advance, we not know the ideal number of iterations a priori. To address this issue, however, we may use quantum counting techniques with the help of the phase estimation procedure (QPE); for details we refer to Ref.[2]. \n",
    "\n",
    "5. **Measurement**: Measure the resulting amplitudes to identify the target item.\n",
    "6. ![](grover.jpg)"
   ]
  },
  {
   "attachments": {},
   "cell_type": "markdown",
   "metadata": {},
   "source": [
    "## Solving Sudoku using Grover's Algorithm\n",
    "\n",
    "The oracles used throughout this chapter so far have been created with prior knowledge of their solutions. We will now solve a simple problem using Grover's algorithm, for which we do not necessarily know the solution beforehand. Our problem is a 2×2 binary sudoku, which in our case has two simple rules:\n",
    "\n",
    "- No column may contain the same value twice\n",
    "- No row may contain the same value twice\n",
    "\n",
    "If we assign each square in our sudoku to a variable like so:\n",
    "\n",
    "![](binary_sudoku.png)\n",
    "\n",
    "we want our circuit to output a solution to this sudoku.\n",
    "\n",
    "Note that, while this approach of using Grover's algorithm to solve this problem is not practical (you can probably find the solution in your head!), the purpose of this example is to demonstrate the conversion of classical decision problems into oracles for Grover's algorithm."
   ]
  },
  {
   "attachments": {},
   "cell_type": "markdown",
   "metadata": {},
   "source": [
    "### Turning the Problem into a Circuit\n",
    "\n",
    "We want to create an oracle that will help us solve this problem, and we will start by creating a circuit that identifies a correct solution. Similar to how we created a classical adder using quantum circuits in The Atoms of Computation, we simply need to create a classical function on a quantum circuit that checks whether the state of our variable bits is a valid solution.\n",
    "\n",
    "Since we need to check down both columns and across both rows, there are 4 conditions we need to check:\n",
    "\n",
    "- v0 ≠ v1   # check along top row\n",
    "- v2 ≠ v3   # check along bottom row\n",
    "- v0 ≠ v2   # check down left column\n",
    "- v1 ≠ v3   # check down right column\n",
    "\n",
    "Remember we are comparing classical (computational basis) states. For convenience, we can compile this set of comparisons into a list of clauses:"
   ]
  },
  {
   "cell_type": "code",
   "execution_count": 8,
   "metadata": {},
   "outputs": [],
   "source": [
    "clause_list = [[0,1],\n",
    "               [0,2],\n",
    "               [1,3],\n",
    "               [2,3]]\n",
    "\n",
    "def XOR(qc, a, b, output):\n",
    "    qc.cx(a, output)\n",
    "    qc.cx(b, output)"
   ]
  },
  {
   "attachments": {},
   "cell_type": "markdown",
   "metadata": {},
   "source": [
    "This circuit `XOR` checks whether `a` == `b` and stores the output to `output`. To check each clause, we repeat this circuit for each pairing in clause_list and store the output to a new bit:"
   ]
  },
  {
   "cell_type": "code",
   "execution_count": 9,
   "metadata": {},
   "outputs": [
    {
     "data": {
      "text/html": [
       "<pre style=\"word-wrap: normal;white-space: pre;background: #fff0;line-height: 1.1;font-family: &quot;Courier New&quot;,Courier,monospace\">                                             \n",
       "v_0: ──■─────────■───────────────────────────\n",
       "       │         │                           \n",
       "v_1: ──┼────■────┼─────────■─────────────────\n",
       "       │    │    │         │                 \n",
       "v_2: ──┼────┼────┼────■────┼─────────■───────\n",
       "       │    │    │    │    │         │       \n",
       "v_3: ──┼────┼────┼────┼────┼────■────┼────■──\n",
       "     ┌─┴─┐┌─┴─┐  │    │    │    │    │    │  \n",
       "c_0: ┤ X ├┤ X ├──┼────┼────┼────┼────┼────┼──\n",
       "     └───┘└───┘┌─┴─┐┌─┴─┐  │    │    │    │  \n",
       "c_1: ──────────┤ X ├┤ X ├──┼────┼────┼────┼──\n",
       "               └───┘└───┘┌─┴─┐┌─┴─┐  │    │  \n",
       "c_2: ────────────────────┤ X ├┤ X ├──┼────┼──\n",
       "                         └───┘└───┘┌─┴─┐┌─┴─┐\n",
       "c_3: ──────────────────────────────┤ X ├┤ X ├\n",
       "                                   └───┘└───┘</pre>"
      ],
      "text/plain": [
       "                                             \n",
       "v_0: ──■─────────■───────────────────────────\n",
       "       │         │                           \n",
       "v_1: ──┼────■────┼─────────■─────────────────\n",
       "       │    │    │         │                 \n",
       "v_2: ──┼────┼────┼────■────┼─────────■───────\n",
       "       │    │    │    │    │         │       \n",
       "v_3: ──┼────┼────┼────┼────┼────■────┼────■──\n",
       "     ┌─┴─┐┌─┴─┐  │    │    │    │    │    │  \n",
       "c_0: ┤ X ├┤ X ├──┼────┼────┼────┼────┼────┼──\n",
       "     └───┘└───┘┌─┴─┐┌─┴─┐  │    │    │    │  \n",
       "c_1: ──────────┤ X ├┤ X ├──┼────┼────┼────┼──\n",
       "               └───┘└───┘┌─┴─┐┌─┴─┐  │    │  \n",
       "c_2: ────────────────────┤ X ├┤ X ├──┼────┼──\n",
       "                         └───┘└───┘┌─┴─┐┌─┴─┐\n",
       "c_3: ──────────────────────────────┤ X ├┤ X ├\n",
       "                                   └───┘└───┘"
      ]
     },
     "execution_count": 9,
     "metadata": {},
     "output_type": "execute_result"
    }
   ],
   "source": [
    "# Create separate registers to name bits\n",
    "var_qubits = QuantumRegister(4, name='v')  # variable bits\n",
    "clause_qubits = QuantumRegister(4, name='c')  # bits to store clause-checks\n",
    "\n",
    "# Create quantum circuit\n",
    "qc = QuantumCircuit(var_qubits, clause_qubits)\n",
    "\n",
    "# Use XOR gate to check each clause\n",
    "i = 0\n",
    "for clause in clause_list:\n",
    "    XOR(qc, clause[0], clause[1], clause_qubits[i])\n",
    "    i += 1\n",
    "\n",
    "qc.draw()"
   ]
  },
  {
   "attachments": {},
   "cell_type": "markdown",
   "metadata": {},
   "source": [
    "The final state of the bits c0, c1, c2, c3 will only all be 1 in the case that the assignments of v0, v1, v2, v3 are a solution to the sudoku. To complete our checking circuit, we want a single bit to be 1 if (and only if) all the clauses are satisfied, this way we can look at just one bit to see if our assignment is a solution. We can do this using a multi-controlled-Toffoli-gate:"
   ]
  },
  {
   "cell_type": "code",
   "execution_count": 10,
   "metadata": {},
   "outputs": [
    {
     "data": {
      "text/html": [
       "<pre style=\"word-wrap: normal;white-space: pre;background: #fff0;line-height: 1.1;font-family: &quot;Courier New&quot;,Courier,monospace\">                                                  \n",
       "v_0: ──■─────────■────────────────────────────────\n",
       "       │         │                                \n",
       "v_1: ──┼────■────┼─────────■──────────────────────\n",
       "       │    │    │         │                      \n",
       "v_2: ──┼────┼────┼────■────┼─────────■────────────\n",
       "       │    │    │    │    │         │            \n",
       "v_3: ──┼────┼────┼────┼────┼────■────┼────■───────\n",
       "     ┌─┴─┐┌─┴─┐  │    │    │    │    │    │       \n",
       "c_0: ┤ X ├┤ X ├──┼────┼────┼────┼────┼────┼────■──\n",
       "     └───┘└───┘┌─┴─┐┌─┴─┐  │    │    │    │    │  \n",
       "c_1: ──────────┤ X ├┤ X ├──┼────┼────┼────┼────■──\n",
       "               └───┘└───┘┌─┴─┐┌─┴─┐  │    │    │  \n",
       "c_2: ────────────────────┤ X ├┤ X ├──┼────┼────■──\n",
       "                         └───┘└───┘┌─┴─┐┌─┴─┐  │  \n",
       "c_3: ──────────────────────────────┤ X ├┤ X ├──■──\n",
       "                                   └───┘└───┘┌─┴─┐\n",
       "out: ────────────────────────────────────────┤ X ├\n",
       "                                             └───┘</pre>"
      ],
      "text/plain": [
       "                                                  \n",
       "v_0: ──■─────────■────────────────────────────────\n",
       "       │         │                                \n",
       "v_1: ──┼────■────┼─────────■──────────────────────\n",
       "       │    │    │         │                      \n",
       "v_2: ──┼────┼────┼────■────┼─────────■────────────\n",
       "       │    │    │    │    │         │            \n",
       "v_3: ──┼────┼────┼────┼────┼────■────┼────■───────\n",
       "     ┌─┴─┐┌─┴─┐  │    │    │    │    │    │       \n",
       "c_0: ┤ X ├┤ X ├──┼────┼────┼────┼────┼────┼────■──\n",
       "     └───┘└───┘┌─┴─┐┌─┴─┐  │    │    │    │    │  \n",
       "c_1: ──────────┤ X ├┤ X ├──┼────┼────┼────┼────■──\n",
       "               └───┘└───┘┌─┴─┐┌─┴─┐  │    │    │  \n",
       "c_2: ────────────────────┤ X ├┤ X ├──┼────┼────■──\n",
       "                         └───┘└───┘┌─┴─┐┌─┴─┐  │  \n",
       "c_3: ──────────────────────────────┤ X ├┤ X ├──■──\n",
       "                                   └───┘└───┘┌─┴─┐\n",
       "out: ────────────────────────────────────────┤ X ├\n",
       "                                             └───┘"
      ]
     },
     "execution_count": 10,
     "metadata": {},
     "output_type": "execute_result"
    }
   ],
   "source": [
    "# Create separate registers to name bits\n",
    "var_qubits = QuantumRegister(4, name='v')\n",
    "clause_qubits = QuantumRegister(4, name='c')\n",
    "output_qubit = QuantumRegister(1, name='out')\n",
    "qc = QuantumCircuit(var_qubits, clause_qubits, output_qubit)\n",
    "\n",
    "# Compute clauses\n",
    "i = 0\n",
    "for clause in clause_list:\n",
    "    XOR(qc, clause[0], clause[1], clause_qubits[i])\n",
    "    i += 1\n",
    "\n",
    "# Flip 'output' bit if all clauses are satisfied\n",
    "qc.mcx(clause_qubits, output_qubit)\n",
    "\n",
    "qc.draw()\n"
   ]
  },
  {
   "attachments": {},
   "cell_type": "markdown",
   "metadata": {},
   "source": [
    "The circuit above takes as input an initial assignment of the bits v0, v1, v2 and v3, and all other bits should be initialized to 0. After running the circuit, the state of the out0 bit tells us if this assignment is a solution or not; out0 = 0 means the assignment is not a solution, and out0 = 1 means the assignment is a solution."
   ]
  },
  {
   "attachments": {},
   "cell_type": "markdown",
   "metadata": {},
   "source": [
    "### Uncomputing, and Completing the Oracle\n",
    "\n",
    "We can now turn this checking circuit into a Grover oracle using phase kickback. To recap, we have 3 registers:\n",
    "\n",
    "- One register which stores our sudoku variables ($v_0,v_1,v_2,v_3$)\n",
    "- One register that stores our clauses ($c_0,c_1,c_2,c_3$. This one starts in the state $|0000\\rangle$)\n",
    "- And one qubit $|out\\rangle$ that we've been using to store the output of our checking circuit.\n",
    "\n",
    "To create an Grover search oracle, recall that we need our circuit $U_w$ to perform the transformation:\n",
    "$$\n",
    "U_w |x\\rangle  \\mapsto \\begin{cases}\n",
    "|x\\rangle , x\\neq w\\\\\n",
    "-|x\\rangle, x=w\\\\\n",
    "\\end{cases}\n",
    "$$\n",
    "The circuit we defined above will flip the qubit `out` when $x=w$. So if we set qubit `out` to the state $|-\\rangle$, since\n",
    "$$\n",
    "X|-\\rangle = X \\frac{1}{\\sqrt{2}}(|0\\rangle-|1\\rangle)=\\frac{1}{\\sqrt{2}}(|1\\rangle-|0\\rangle) = -|-\\rangle\n",
    "$$\n",
    "So our circuit should be the transformation\n",
    "$$\n",
    "V_w |x\\rangle |0\\rangle |-\\rangle \\mapsto \\begin{cases}\n",
    "|x\\rangle |0\\rangle |-\\rangle, x\\neq w\\\\\n",
    "-|x\\rangle |0\\rangle |-\\rangle, x=w\\\\\n",
    "\\end{cases}\n",
    "$$"
   ]
  },
  {
   "cell_type": "code",
   "execution_count": 11,
   "metadata": {},
   "outputs": [
    {
     "data": {
      "text/html": [
       "<pre style=\"word-wrap: normal;white-space: pre;background: #fff0;line-height: 1.1;font-family: &quot;Courier New&quot;,Courier,monospace\">                                                                               »\n",
       "    v_0: ──■─────────■──────────────────────────────────■─────────■────────────»\n",
       "           │         │                                  │         │            »\n",
       "    v_1: ──┼────■────┼─────────■────────────────────────┼────■────┼─────────■──»\n",
       "           │    │    │         │                        │    │    │         │  »\n",
       "    v_2: ──┼────┼────┼────■────┼─────────■──────────────┼────┼────┼────■────┼──»\n",
       "           │    │    │    │    │         │              │    │    │    │    │  »\n",
       "    v_3: ──┼────┼────┼────┼────┼────■────┼────■─────────┼────┼────┼────┼────┼──»\n",
       "         ┌─┴─┐┌─┴─┐  │    │    │    │    │    │       ┌─┴─┐┌─┴─┐  │    │    │  »\n",
       "    c_0: ┤ X ├┤ X ├──┼────┼────┼────┼────┼────┼────■──┤ X ├┤ X ├──┼────┼────┼──»\n",
       "         └───┘└───┘┌─┴─┐┌─┴─┐  │    │    │    │    │  └───┘└───┘┌─┴─┐┌─┴─┐  │  »\n",
       "    c_1: ──────────┤ X ├┤ X ├──┼────┼────┼────┼────■────────────┤ X ├┤ X ├──┼──»\n",
       "                   └───┘└───┘┌─┴─┐┌─┴─┐  │    │    │            └───┘└───┘┌─┴─┐»\n",
       "    c_2: ────────────────────┤ X ├┤ X ├──┼────┼────■──────────────────────┤ X ├»\n",
       "                             └───┘└───┘┌─┴─┐┌─┴─┐  │                      └───┘»\n",
       "    c_3: ──────────────────────────────┤ X ├┤ X ├──■───────────────────────────»\n",
       "         ┌───┐┌───┐                    └───┘└───┘┌─┴─┐┌───┐┌───┐               »\n",
       "    out: ┤ X ├┤ H ├──────────────────────────────┤ X ├┤ H ├┤ X ├───────────────»\n",
       "         └───┘└───┘                              └───┘└───┘└───┘               »\n",
       "cbits: 4/══════════════════════════════════════════════════════════════════════»\n",
       "                                                                               »\n",
       "«                        \n",
       "«    v_0: ───────────────\n",
       "«                        \n",
       "«    v_1: ───────────────\n",
       "«                        \n",
       "«    v_2: ───────■───────\n",
       "«                │       \n",
       "«    v_3: ──■────┼────■──\n",
       "«           │    │    │  \n",
       "«    c_0: ──┼────┼────┼──\n",
       "«           │    │    │  \n",
       "«    c_1: ──┼────┼────┼──\n",
       "«         ┌─┴─┐  │    │  \n",
       "«    c_2: ┤ X ├──┼────┼──\n",
       "«         └───┘┌─┴─┐┌─┴─┐\n",
       "«    c_3: ─────┤ X ├┤ X ├\n",
       "«              └───┘└───┘\n",
       "«    out: ───────────────\n",
       "«                        \n",
       "«cbits: 4/═══════════════\n",
       "«                        </pre>"
      ],
      "text/plain": [
       "                                                                               »\n",
       "    v_0: ──■─────────■──────────────────────────────────■─────────■────────────»\n",
       "           │         │                                  │         │            »\n",
       "    v_1: ──┼────■────┼─────────■────────────────────────┼────■────┼─────────■──»\n",
       "           │    │    │         │                        │    │    │         │  »\n",
       "    v_2: ──┼────┼────┼────■────┼─────────■──────────────┼────┼────┼────■────┼──»\n",
       "           │    │    │    │    │         │              │    │    │    │    │  »\n",
       "    v_3: ──┼────┼────┼────┼────┼────■────┼────■─────────┼────┼────┼────┼────┼──»\n",
       "         ┌─┴─┐┌─┴─┐  │    │    │    │    │    │       ┌─┴─┐┌─┴─┐  │    │    │  »\n",
       "    c_0: ┤ X ├┤ X ├──┼────┼────┼────┼────┼────┼────■──┤ X ├┤ X ├──┼────┼────┼──»\n",
       "         └───┘└───┘┌─┴─┐┌─┴─┐  │    │    │    │    │  └───┘└───┘┌─┴─┐┌─┴─┐  │  »\n",
       "    c_1: ──────────┤ X ├┤ X ├──┼────┼────┼────┼────■────────────┤ X ├┤ X ├──┼──»\n",
       "                   └───┘└───┘┌─┴─┐┌─┴─┐  │    │    │            └───┘└───┘┌─┴─┐»\n",
       "    c_2: ────────────────────┤ X ├┤ X ├──┼────┼────■──────────────────────┤ X ├»\n",
       "                             └───┘└───┘┌─┴─┐┌─┴─┐  │                      └───┘»\n",
       "    c_3: ──────────────────────────────┤ X ├┤ X ├──■───────────────────────────»\n",
       "         ┌───┐┌───┐                    └───┘└───┘┌─┴─┐┌───┐┌───┐               »\n",
       "    out: ┤ X ├┤ H ├──────────────────────────────┤ X ├┤ H ├┤ X ├───────────────»\n",
       "         └───┘└───┘                              └───┘└───┘└───┘               »\n",
       "cbits: 4/══════════════════════════════════════════════════════════════════════»\n",
       "                                                                               »\n",
       "«                        \n",
       "«    v_0: ───────────────\n",
       "«                        \n",
       "«    v_1: ───────────────\n",
       "«                        \n",
       "«    v_2: ───────■───────\n",
       "«                │       \n",
       "«    v_3: ──■────┼────■──\n",
       "«           │    │    │  \n",
       "«    c_0: ──┼────┼────┼──\n",
       "«           │    │    │  \n",
       "«    c_1: ──┼────┼────┼──\n",
       "«         ┌─┴─┐  │    │  \n",
       "«    c_2: ┤ X ├──┼────┼──\n",
       "«         └───┘┌─┴─┐┌─┴─┐\n",
       "«    c_3: ─────┤ X ├┤ X ├\n",
       "«              └───┘└───┘\n",
       "«    out: ───────────────\n",
       "«                        \n",
       "«cbits: 4/═══════════════\n",
       "«                        "
      ]
     },
     "execution_count": 11,
     "metadata": {},
     "output_type": "execute_result"
    }
   ],
   "source": [
    "var_qubits = QuantumRegister(4, name='v')\n",
    "clause_qubits = QuantumRegister(4, name='c')\n",
    "output_qubit = QuantumRegister(1, name='out')\n",
    "cbits = ClassicalRegister(4, name='cbits')\n",
    "qc = QuantumCircuit(var_qubits, clause_qubits, output_qubit, cbits)\n",
    "\n",
    "def sudoku_oracle(qc, clause_list, clause_qubits):\n",
    "    # Compute clauses\n",
    "    i = 0\n",
    "    for clause in clause_list:\n",
    "        XOR(qc, clause[0], clause[1], clause_qubits[i])\n",
    "        i += 1\n",
    "\n",
    "    # Flip 'output' bit if all clauses are satisfied\n",
    "    qc.mcx(clause_qubits, output_qubit)\n",
    "\n",
    "    # Uncompute clauses to reset clause-checking bits to 0\n",
    "    i = 0\n",
    "    for clause in clause_list:\n",
    "        XOR(qc, clause[0], clause[1], clause_qubits[i])\n",
    "        i += 1\n",
    "\n",
    "qc.x(output_qubit)\n",
    "qc.h(output_qubit)\n",
    "sudoku_oracle(qc, clause_list, clause_qubits)\n",
    "qc.h(output_qubit)\n",
    "qc.x(output_qubit)\n",
    "qc.draw()"
   ]
  },
  {
   "attachments": {},
   "cell_type": "markdown",
   "metadata": {},
   "source": [
    "Then we need to build the diffuser operation."
   ]
  },
  {
   "cell_type": "code",
   "execution_count": 12,
   "metadata": {},
   "outputs": [],
   "source": [
    "def diffuser(nqubits):\n",
    "    qc = QuantumCircuit(nqubits)\n",
    "    # Apply transformation |s> -> |00..0> (H-gates)\n",
    "    for qubit in range(nqubits):\n",
    "        qc.h(qubit)\n",
    "    # Apply transformation |00..0> -> |11..1> (X-gates)\n",
    "    for qubit in range(nqubits):\n",
    "        qc.x(qubit)\n",
    "    # Do multi-controlled-Z gate\n",
    "    qc.h(nqubits-1)\n",
    "    qc.mcx(list(range(nqubits-1)), nqubits-1)  # multi-controlled-toffoli\n",
    "    qc.h(nqubits-1)\n",
    "    # Apply transformation |11..1> -> |00..0>\n",
    "    for qubit in range(nqubits):\n",
    "        qc.x(qubit)\n",
    "    # Apply transformation |00..0> -> |s>\n",
    "    for qubit in range(nqubits):\n",
    "        qc.h(qubit)\n",
    "    # We will return the diffuser as a gate\n",
    "    U_s = qc.to_gate()\n",
    "    U_s.name = \"U$_s$\"\n",
    "    return U_s"
   ]
  },
  {
   "attachments": {},
   "cell_type": "markdown",
   "metadata": {},
   "source": [
    "The full algorithm"
   ]
  },
  {
   "cell_type": "code",
   "execution_count": 13,
   "metadata": {},
   "outputs": [
    {
     "data": {
      "text/html": [
       "<pre style=\"word-wrap: normal;white-space: pre;background: #fff0;line-height: 1.1;font-family: &quot;Courier New&quot;,Courier,monospace\">                      ┌───┐               ░                                                                                       ░ ┌────────┐                                                                                      ░ ┌────────┐┌─┐         \n",
       "    v_0: ─────────────┤ H ├───────────────░───■─────────■──────────────────────────────────■─────────■────────────────────────────░─┤0       ├──■─────────■──────────────────────────────────■─────────■────────────────────────────░─┤0       ├┤M├─────────\n",
       "                      ├───┤               ░   │         │                                  │         │                            ░ │        │  │         │                                  │         │                            ░ │        │└╥┘┌─┐      \n",
       "    v_1: ─────────────┤ H ├───────────────░───┼────■────┼─────────■────────────────────────┼────■────┼─────────■──────────────────░─┤1       ├──┼────■────┼─────────■────────────────────────┼────■────┼─────────■──────────────────░─┤1       ├─╫─┤M├──────\n",
       "                      ├───┤               ░   │    │    │         │                        │    │    │         │                  ░ │  U$_s$ │  │    │    │         │                        │    │    │         │                  ░ │  U$_s$ │ ║ └╥┘┌─┐   \n",
       "    v_2: ─────────────┤ H ├───────────────░───┼────┼────┼────■────┼─────────■──────────────┼────┼────┼────■────┼─────────■────────░─┤2       ├──┼────┼────┼────■────┼─────────■──────────────┼────┼────┼────■────┼─────────■────────░─┤2       ├─╫──╫─┤M├───\n",
       "                      ├───┤               ░   │    │    │    │    │         │              │    │    │    │    │         │        ░ │        │  │    │    │    │    │         │              │    │    │    │    │         │        ░ │        │ ║  ║ └╥┘┌─┐\n",
       "    v_3: ─────────────┤ H ├───────────────░───┼────┼────┼────┼────┼────■────┼────■─────────┼────┼────┼────┼────┼────■────┼────■───░─┤3       ├──┼────┼────┼────┼────┼────■────┼────■─────────┼────┼────┼────┼────┼────■────┼────■───░─┤3       ├─╫──╫──╫─┤M├\n",
       "                      └───┘               ░ ┌─┴─┐┌─┴─┐  │    │    │    │    │    │       ┌─┴─┐┌─┴─┐  │    │    │    │    │    │   ░ └────────┘┌─┴─┐┌─┴─┐  │    │    │    │    │    │       ┌─┴─┐┌─┴─┐  │    │    │    │    │    │   ░ └────────┘ ║  ║  ║ └╥┘\n",
       "    c_0: ─────────────────────────────────░─┤ X ├┤ X ├──┼────┼────┼────┼────┼────┼────■──┤ X ├┤ X ├──┼────┼────┼────┼────┼────┼───░───────────┤ X ├┤ X ├──┼────┼────┼────┼────┼────┼────■──┤ X ├┤ X ├──┼────┼────┼────┼────┼────┼───░────────────╫──╫──╫──╫─\n",
       "                                          ░ └───┘└───┘┌─┴─┐┌─┴─┐  │    │    │    │    │  └───┘└───┘┌─┴─┐┌─┴─┐  │    │    │    │   ░           └───┘└───┘┌─┴─┐┌─┴─┐  │    │    │    │    │  └───┘└───┘┌─┴─┐┌─┴─┐  │    │    │    │   ░            ║  ║  ║  ║ \n",
       "    c_1: ─────────────────────────────────░───────────┤ X ├┤ X ├──┼────┼────┼────┼────■────────────┤ X ├┤ X ├──┼────┼────┼────┼───░─────────────────────┤ X ├┤ X ├──┼────┼────┼────┼────■────────────┤ X ├┤ X ├──┼────┼────┼────┼───░────────────╫──╫──╫──╫─\n",
       "                                          ░           └───┘└───┘┌─┴─┐┌─┴─┐  │    │    │            └───┘└───┘┌─┴─┐┌─┴─┐  │    │   ░                     └───┘└───┘┌─┴─┐┌─┴─┐  │    │    │            └───┘└───┘┌─┴─┐┌─┴─┐  │    │   ░            ║  ║  ║  ║ \n",
       "    c_2: ─────────────────────────────────░─────────────────────┤ X ├┤ X ├──┼────┼────■──────────────────────┤ X ├┤ X ├──┼────┼───░───────────────────────────────┤ X ├┤ X ├──┼────┼────■──────────────────────┤ X ├┤ X ├──┼────┼───░────────────╫──╫──╫──╫─\n",
       "                                          ░                     └───┘└───┘┌─┴─┐┌─┴─┐  │                      └───┘└───┘┌─┴─┐┌─┴─┐ ░                               └───┘└───┘┌─┴─┐┌─┴─┐  │                      └───┘└───┘┌─┴─┐┌─┴─┐ ░            ║  ║  ║  ║ \n",
       "    c_3: ─────────────────────────────────░───────────────────────────────┤ X ├┤ X ├──■────────────────────────────────┤ X ├┤ X ├─░─────────────────────────────────────────┤ X ├┤ X ├──■────────────────────────────────┤ X ├┤ X ├─░────────────╫──╫──╫──╫─\n",
       "         ┌──────────────────────────────┐ ░                               └───┘└───┘┌─┴─┐                              └───┘└───┘ ░                                         └───┘└───┘┌─┴─┐                              └───┘└───┘ ░            ║  ║  ║  ║ \n",
       "    out: ┤ Initialize(0.70711,-0.70711) ├─░─────────────────────────────────────────┤ X ├─────────────────────────────────────────░───────────────────────────────────────────────────┤ X ├─────────────────────────────────────────░────────────╫──╫──╫──╫─\n",
       "         └──────────────────────────────┘ ░                                         └───┘                                         ░                                                   └───┘                                         ░            ║  ║  ║  ║ \n",
       "cbits: 4/════════════════════════════════════════════════════════════════════════════════════════════════════════════════════════════════════════════════════════════════════════════════════════════════════════════════════════════════════════╩══╩══╩══╩═\n",
       "                                                                                                                                                                                                                                                 0  1  2  3 </pre>"
      ],
      "text/plain": [
       "                      ┌───┐               ░                                                                                       ░ ┌────────┐                                                                                      ░ ┌────────┐┌─┐         \n",
       "    v_0: ─────────────┤ H ├───────────────░───■─────────■──────────────────────────────────■─────────■────────────────────────────░─┤0       ├──■─────────■──────────────────────────────────■─────────■────────────────────────────░─┤0       ├┤M├─────────\n",
       "                      ├───┤               ░   │         │                                  │         │                            ░ │        │  │         │                                  │         │                            ░ │        │└╥┘┌─┐      \n",
       "    v_1: ─────────────┤ H ├───────────────░───┼────■────┼─────────■────────────────────────┼────■────┼─────────■──────────────────░─┤1       ├──┼────■────┼─────────■────────────────────────┼────■────┼─────────■──────────────────░─┤1       ├─╫─┤M├──────\n",
       "                      ├───┤               ░   │    │    │         │                        │    │    │         │                  ░ │  U$_s$ │  │    │    │         │                        │    │    │         │                  ░ │  U$_s$ │ ║ └╥┘┌─┐   \n",
       "    v_2: ─────────────┤ H ├───────────────░───┼────┼────┼────■────┼─────────■──────────────┼────┼────┼────■────┼─────────■────────░─┤2       ├──┼────┼────┼────■────┼─────────■──────────────┼────┼────┼────■────┼─────────■────────░─┤2       ├─╫──╫─┤M├───\n",
       "                      ├───┤               ░   │    │    │    │    │         │              │    │    │    │    │         │        ░ │        │  │    │    │    │    │         │              │    │    │    │    │         │        ░ │        │ ║  ║ └╥┘┌─┐\n",
       "    v_3: ─────────────┤ H ├───────────────░───┼────┼────┼────┼────┼────■────┼────■─────────┼────┼────┼────┼────┼────■────┼────■───░─┤3       ├──┼────┼────┼────┼────┼────■────┼────■─────────┼────┼────┼────┼────┼────■────┼────■───░─┤3       ├─╫──╫──╫─┤M├\n",
       "                      └───┘               ░ ┌─┴─┐┌─┴─┐  │    │    │    │    │    │       ┌─┴─┐┌─┴─┐  │    │    │    │    │    │   ░ └────────┘┌─┴─┐┌─┴─┐  │    │    │    │    │    │       ┌─┴─┐┌─┴─┐  │    │    │    │    │    │   ░ └────────┘ ║  ║  ║ └╥┘\n",
       "    c_0: ─────────────────────────────────░─┤ X ├┤ X ├──┼────┼────┼────┼────┼────┼────■──┤ X ├┤ X ├──┼────┼────┼────┼────┼────┼───░───────────┤ X ├┤ X ├──┼────┼────┼────┼────┼────┼────■──┤ X ├┤ X ├──┼────┼────┼────┼────┼────┼───░────────────╫──╫──╫──╫─\n",
       "                                          ░ └───┘└───┘┌─┴─┐┌─┴─┐  │    │    │    │    │  └───┘└───┘┌─┴─┐┌─┴─┐  │    │    │    │   ░           └───┘└───┘┌─┴─┐┌─┴─┐  │    │    │    │    │  └───┘└───┘┌─┴─┐┌─┴─┐  │    │    │    │   ░            ║  ║  ║  ║ \n",
       "    c_1: ─────────────────────────────────░───────────┤ X ├┤ X ├──┼────┼────┼────┼────■────────────┤ X ├┤ X ├──┼────┼────┼────┼───░─────────────────────┤ X ├┤ X ├──┼────┼────┼────┼────■────────────┤ X ├┤ X ├──┼────┼────┼────┼───░────────────╫──╫──╫──╫─\n",
       "                                          ░           └───┘└───┘┌─┴─┐┌─┴─┐  │    │    │            └───┘└───┘┌─┴─┐┌─┴─┐  │    │   ░                     └───┘└───┘┌─┴─┐┌─┴─┐  │    │    │            └───┘└───┘┌─┴─┐┌─┴─┐  │    │   ░            ║  ║  ║  ║ \n",
       "    c_2: ─────────────────────────────────░─────────────────────┤ X ├┤ X ├──┼────┼────■──────────────────────┤ X ├┤ X ├──┼────┼───░───────────────────────────────┤ X ├┤ X ├──┼────┼────■──────────────────────┤ X ├┤ X ├──┼────┼───░────────────╫──╫──╫──╫─\n",
       "                                          ░                     └───┘└───┘┌─┴─┐┌─┴─┐  │                      └───┘└───┘┌─┴─┐┌─┴─┐ ░                               └───┘└───┘┌─┴─┐┌─┴─┐  │                      └───┘└───┘┌─┴─┐┌─┴─┐ ░            ║  ║  ║  ║ \n",
       "    c_3: ─────────────────────────────────░───────────────────────────────┤ X ├┤ X ├──■────────────────────────────────┤ X ├┤ X ├─░─────────────────────────────────────────┤ X ├┤ X ├──■────────────────────────────────┤ X ├┤ X ├─░────────────╫──╫──╫──╫─\n",
       "         ┌──────────────────────────────┐ ░                               └───┘└───┘┌─┴─┐                              └───┘└───┘ ░                                         └───┘└───┘┌─┴─┐                              └───┘└───┘ ░            ║  ║  ║  ║ \n",
       "    out: ┤ Initialize(0.70711,-0.70711) ├─░─────────────────────────────────────────┤ X ├─────────────────────────────────────────░───────────────────────────────────────────────────┤ X ├─────────────────────────────────────────░────────────╫──╫──╫──╫─\n",
       "         └──────────────────────────────┘ ░                                         └───┘                                         ░                                                   └───┘                                         ░            ║  ║  ║  ║ \n",
       "cbits: 4/════════════════════════════════════════════════════════════════════════════════════════════════════════════════════════════════════════════════════════════════════════════════════════════════════════════════════════════════════════╩══╩══╩══╩═\n",
       "                                                                                                                                                                                                                                                 0  1  2  3 "
      ]
     },
     "execution_count": 13,
     "metadata": {},
     "output_type": "execute_result"
    }
   ],
   "source": [
    "var_qubits = QuantumRegister(4, name='v')\n",
    "clause_qubits = QuantumRegister(4, name='c')\n",
    "output_qubit = QuantumRegister(1, name='out')\n",
    "cbits = ClassicalRegister(4, name='cbits')\n",
    "qc = QuantumCircuit(var_qubits, clause_qubits, output_qubit, cbits)\n",
    "\n",
    "# Initialize 'out0' in state |->\n",
    "qc.initialize([1, -1]/np.sqrt(2), output_qubit)\n",
    "\n",
    "# Initialize qubits in state |s>\n",
    "qc.h(var_qubits)\n",
    "qc.barrier()  # for visual separation\n",
    "\n",
    "Iteration = 2\n",
    "for i in range(Iteration):\n",
    "    # Apply our oracle\n",
    "    sudoku_oracle(qc, clause_list, clause_qubits)\n",
    "    qc.barrier()  # for visual separation\n",
    "    # Apply our diffuser\n",
    "    qc.append(diffuser(4), [0,1,2,3])\n",
    "\n",
    "\n",
    "# Measure the variable qubits\n",
    "qc.measure(var_qubits, cbits)\n",
    "\n",
    "qc.draw(fold=-1)"
   ]
  },
  {
   "cell_type": "code",
   "execution_count": 14,
   "metadata": {},
   "outputs": [
    {
     "data": {
      "image/png": "[encoded data removed]",
      "text/plain": [
       "<Figure size 640x480 with 1 Axes>"
      ]
     },
     "execution_count": 14,
     "metadata": {},
     "output_type": "execute_result"
    }
   ],
   "source": [
    "from qiskit import transpile\n",
    "\n",
    "# Simulate and plot results\n",
    "aer_simulator = AerSimulator()\n",
    "transpiled_qc = transpile(qc, aer_simulator)\n",
    "result = aer_simulator.run(transpiled_qc).result()\n",
    "plot_histogram(result.get_counts())"
   ]
  }
 ],
 "metadata": {
  "kernelspec": {
   "display_name": ".venv",
   "language": "python",
   "name": "python3"
  },
  "language_info": {
   "codemirror_mode": {
    "name": "ipython",
    "version": 3
   },
   "file_extension": ".py",
   "mimetype": "text/x-python",
   "name": "python",
   "nbconvert_exporter": "python",
   "pygments_lexer": "ipython3",
   "version": "3.10.12"
  }
 },
 "nbformat": 4,
 "nbformat_minor": 4
}
