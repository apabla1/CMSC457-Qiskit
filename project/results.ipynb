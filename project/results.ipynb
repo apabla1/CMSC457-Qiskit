{
 "cells": [
  {
   "cell_type": "code",
   "execution_count": 1,
   "id": "c566ff3c",
   "metadata": {},
   "outputs": [],
   "source": [
    "# Imports and Function Initialization\n",
    "\n",
    "import numpy as np\n",
    "import math\n",
    "from math import log2, sqrt\n",
    "import qiskit\n",
    "from qiskit import QuantumRegister, ClassicalRegister, QuantumCircuit, transpile\n",
    "from qiskit_aer import AerSimulator\n",
    "from qiskit.circuit.library import Initialize\n",
    "from qiskit.circuit import QuantumCircuit\n",
    "from qiskit.quantum_info import random_statevector, Statevector\n",
    "from qiskit.visualization import plot_bloch_multivector, plot_histogram\n",
    "import scipy.stats\n",
    "import matplotlib.pyplot as plt\n",
    "from qiskit.circuit.library import RYGate, CCXGate\n",
    "from collections import deque\n",
    "\n",
    "\n",
    "def get_braket_string(statevector):\n",
    "    '''\n",
    "    Return a beautified string for the given statevector\n",
    "    '''\n",
    "    num_qubits = log2(len(statevector))\n",
    "    assert num_qubits.is_integer(), 'Expected a 2**n state'\n",
    "    num_qubits = int(num_qubits)\n",
    "    \n",
    "    assert abs(np.linalg.norm(statevector) - 1) < 1e-4, 'Norm of state is too far from 1'\n",
    "    \n",
    "    simpler_state = []\n",
    "    # discards 0 values\n",
    "    for amplitude in statevector:\n",
    "        if amplitude.imag == 0 and amplitude.real == 0:\n",
    "            simpler_state.append(0)\n",
    "        elif amplitude.imag == 0:\n",
    "            simpler_state.append(amplitude.real)\n",
    "        elif amplitude.real == 0:\n",
    "            simpler_state.append(amplitude.imag)\n",
    "        else:\n",
    "            simpler_state.append(amplitude)\n",
    "    \n",
    "    out_str = ''\n",
    "    skip_plus = False\n",
    "    for index, amplitude in enumerate(simpler_state):\n",
    "        if amplitude == 0:\n",
    "            skip_plus = True\n",
    "            continue\n",
    "        \n",
    "        if not skip_plus and index > 0:\n",
    "            out_str += '+'\n",
    "\n",
    "        state = format(index, f'0{num_qubits}b')\n",
    "        \n",
    "        # g defaults to 6 digits of precision but ignores zeros        \n",
    "        out_str += f'{amplitude : g}|{state}>'\n",
    "    return out_str\n"
   ]
  },
  {
   "cell_type": "code",
   "execution_count": 2,
   "id": "2485a3c1",
   "metadata": {},
   "outputs": [],
   "source": [
    "# Define global variables for quantum state\n",
    "num_qubits = 3\n",
    "num_states = 2**num_qubits\n",
    "state_step = 1 / num_states"
   ]
  },
  {
   "cell_type": "code",
   "execution_count": null,
   "id": "f3ffcf9f",
   "metadata": {},
   "outputs": [
    {
     "name": "stdout",
     "output_type": "stream",
     "text": [
      "[1.71262287e-01 2.92944441e-01 2.92944441e-01 1.71262287e-01\n",
      " 5.84905150e-02 1.16531270e-02 1.35179498e-03 9.11064913e-05]\n"
     ]
    }
   ],
   "source": [
    "# Here you can create discretized values for ANY distribution, and it should work!\n",
    "\n",
    "# Get the discretized value for the uniform distribution\n",
    "\n",
    "# p = []\n",
    "# for i in range(1, num_states + 1):\n",
    "#     p.append(1/num_states)\n",
    "\n",
    "# Get the discretized value for the normal distribution\n",
    "\n",
    "mean = 0.25\n",
    "std = 1/6\n",
    "p = []\n",
    "for i in range(1, num_states + 1):\n",
    "    state = i * state_step\n",
    "    p.append(scipy.stats.norm.cdf(state, mean, std) - scipy.stats.norm.cdf(state - state_step, mean, std))\n",
    "\n",
    "# Normalize the distribution\n",
    "p = np.array(p)\n",
    "p = p / np.sum(p)\n",
    "\n",
    "print(p)"
   ]
  },
  {
   "cell_type": "code",
   "execution_count": 4,
   "id": "89beb8a9",
   "metadata": {},
   "outputs": [
    {
     "name": "stdout",
     "output_type": "stream",
     "text": [
      "\\documentclass[border=2px]{standalone}\n",
      "\n",
      "\\usepackage[braket, qm]{qcircuit}\n",
      "\\usepackage{graphicx}\n",
      "\n",
      "\\begin{document}\n",
      "\\scalebox{1.0}{\n",
      "\\Qcircuit @C=1.0em @R=0.2em @!R { \\\\\n",
      "\t \t\\nghost{{q}_{0} :  } & \\lstick{{q}_{0} :  } & \\qw \\barrier[0em]{2} & \\qw & \\qw & \\qw & \\qw \\barrier[0em]{2} & \\qw & \\qw \\barrier[0em]{2} & \\qw & \\qw & \\gate{\\mathrm{R_Y}\\,(\\mathrm{1.836})} & \\qw \\barrier[0em]{2} & \\qw & \\qw & \\gate{\\mathrm{R_Y}\\,(\\mathrm{1.306})} & \\qw \\barrier[0em]{2} & \\qw & \\qw & \\gate{\\mathrm{R_Y}\\,(\\mathrm{0.8396})} & \\qw \\barrier[0em]{2} & \\qw & \\gate{\\mathrm{R_Y}\\,(\\mathrm{0.508})} \\barrier[0em]{2} & \\qw \\barrier[0em]{2} & \\qw & \\meter & \\qw & \\qw & \\qw & \\qw\\\\\n",
      "\t \t\\nghost{{q}_{1} :  } & \\lstick{{q}_{1} :  } & \\qw & \\qw & \\qw & \\gate{\\mathrm{R_Y}\\,(\\mathrm{\\frac{\\pi}{2}})} & \\qw & \\qw & \\gate{\\mathrm{R_Y}\\,(\\mathrm{0.2849})} & \\qw & \\gate{\\mathrm{X}} & \\ctrl{-1} & \\gate{\\mathrm{X}} & \\qw & \\qw & \\ctrl{-1} & \\qw & \\qw & \\gate{\\mathrm{X}} & \\ctrl{-1} & \\gate{\\mathrm{X}} & \\qw & \\ctrl{-1} & \\qw & \\qw & \\qw & \\meter & \\qw & \\qw & \\qw\\\\\n",
      "\t \t\\nghost{{q}_{2} :  } & \\lstick{{q}_{2} :  } & \\gate{\\mathrm{R_Y}\\,(\\mathrm{0.5417})} & \\qw & \\gate{\\mathrm{X}} & \\ctrl{-1} & \\gate{\\mathrm{X}} & \\qw & \\ctrl{-1} & \\qw & \\gate{\\mathrm{X}} & \\ctrl{-1} & \\gate{\\mathrm{X}} & \\qw & \\gate{\\mathrm{X}} & \\ctrl{-1} & \\gate{\\mathrm{X}} & \\qw & \\qw & \\ctrl{-1} & \\qw & \\qw & \\ctrl{-1} & \\qw & \\qw & \\qw & \\qw & \\meter & \\qw & \\qw\\\\\n",
      "\t \t\\nghost{\\mathrm{{meas} :  }} & \\lstick{\\mathrm{{meas} :  }} & \\lstick{/_{_{3}}} \\cw & \\cw & \\cw & \\cw & \\cw & \\cw & \\cw & \\cw & \\cw & \\cw & \\cw & \\cw & \\cw & \\cw & \\cw & \\cw & \\cw & \\cw & \\cw & \\cw & \\cw & \\cw & \\cw & \\dstick{_{_{\\hspace{0.0em}0}}} \\cw \\ar @{<=} [-3,0] & \\dstick{_{_{\\hspace{0.0em}1}}} \\cw \\ar @{<=} [-2,0] & \\dstick{_{_{\\hspace{0.0em}2}}} \\cw \\ar @{<=} [-1,0] & \\cw & \\cw\\\\\n",
      "\\\\ }}\n",
      "\\end{document}\n",
      "Figure(2252.61x785.944)\n"
     ]
    }
   ],
   "source": [
    "def create_circuit(p):\n",
    "\n",
    "    # p = p[::-1]\n",
    "    qc = QuantumCircuit(num_qubits)\n",
    "\n",
    "    queue = deque()\n",
    "    queue.append((p, [], 1))\n",
    "\n",
    "    while queue:\n",
    "        curr_p, curr_path, prev_sum = queue.popleft()\n",
    "\n",
    "        if len(curr_p) == 1:\n",
    "            continue\n",
    "        \n",
    "        mid = len(curr_p) // 2\n",
    "        left_sum = sum(curr_p[:mid])\n",
    "        theta = 2 * np.arccos(np.sqrt(left_sum / prev_sum))\n",
    "\n",
    "        if len(curr_path) == 0:\n",
    "            qc.ry(theta, num_qubits - 1) \n",
    "        else:\n",
    "            control_qubits = [num_qubits - 1 - i for i in range(len(curr_path))]  \n",
    "            not_gates = []\n",
    "            for i in range(len(curr_path)):\n",
    "                if curr_path[i]:\n",
    "                    not_gates.append(control_qubits[i])\n",
    "            qc.x(not_gates) if not_gates else None\n",
    "            qc.append(RYGate(theta).control(len(curr_path)), \n",
    "                      control_qubits + [num_qubits - 1 - len(curr_path)])  \n",
    "            qc.x(not_gates) if not_gates else None\n",
    "\n",
    "        qc.barrier()\n",
    "        \n",
    "        queue.append((curr_p[:mid], curr_path + [True], left_sum))\n",
    "        queue.append((curr_p[mid:], curr_path + [False], prev_sum - left_sum))\n",
    "\n",
    "    qc.measure_all()\n",
    "    return qc\n",
    "\n",
    "qc = create_circuit(p)\n",
    "print(qc.draw(output=\"latex_source\")) # Get LATEX code\n",
    "print(qc.draw('mpl'))"
   ]
  },
  {
   "cell_type": "code",
   "execution_count": 5,
   "id": "2dde1332",
   "metadata": {},
   "outputs": [
    {
     "data": {
      "image/png": "[encoded data removed]",
      "text/plain": [
       "<Figure size 640x480 with 1 Axes>"
      ]
     },
     "execution_count": 5,
     "metadata": {},
     "output_type": "execute_result"
    }
   ],
   "source": [
    "from qiskit_aer import AerSimulator\n",
    "\n",
    "simulator = AerSimulator()\n",
    "qc_t = transpile(qc, simulator)\n",
    "result = simulator.run(qc_t,shots=10000).result()\n",
    "counts = result.get_counts(qc_t)\n",
    "plot_histogram(counts, title='State counts')"
   ]
  }
 ],
 "metadata": {
  "kernelspec": {
   "display_name": ".venv",
   "language": "python",
   "name": "python3"
  },
  "language_info": {
   "codemirror_mode": {
    "name": "ipython",
    "version": 3
   },
   "file_extension": ".py",
   "mimetype": "text/x-python",
   "name": "python",
   "nbconvert_exporter": "python",
   "pygments_lexer": "ipython3",
   "version": "3.10.12"
  }
 },
 "nbformat": 4,
 "nbformat_minor": 5
}
