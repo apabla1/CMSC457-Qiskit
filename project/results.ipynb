{
 "cells": [
  {
   "cell_type": "code",
   "execution_count": 109,
   "id": "c566ff3c",
   "metadata": {},
   "outputs": [],
   "source": [
    "# Imports and Function Initialization\n",
    "\n",
    "import numpy as np\n",
    "import math\n",
    "from math import log2, sqrt\n",
    "import qiskit\n",
    "from qiskit import QuantumRegister, ClassicalRegister, QuantumCircuit, transpile\n",
    "from qiskit_aer import AerSimulator\n",
    "from qiskit.circuit.library import Initialize\n",
    "from qiskit.circuit import QuantumCircuit\n",
    "from qiskit.quantum_info import random_statevector, Statevector\n",
    "from qiskit.visualization import plot_bloch_multivector, plot_histogram\n",
    "import scipy.stats\n",
    "import matplotlib.pyplot as plt\n",
    "from qiskit.circuit.library import RYGate, CCXGate\n",
    "from collections import deque\n",
    "from qiskit_aer import AerSimulator"
   ]
  },
  {
   "cell_type": "code",
   "execution_count": 110,
   "id": "2485a3c1",
   "metadata": {},
   "outputs": [],
   "source": [
    "# Choose CDF for INTEGRABLE distributions, some are given\n",
    "\n",
    "# NOTE feel free to change the values in the function header\n",
    "\n",
    "def normal_cdf(x, mean=0.5, std=1/6):\n",
    "    '''\n",
    "    Normal Distribution\n",
    "    '''\n",
    "    return scipy.stats.norm.cdf(x, mean, std)\n",
    "\n",
    "def uniform_cdf(x, a=0, b=1):\n",
    "    '''\n",
    "    Uniform Distribution\n",
    "    '''\n",
    "    if (x < a):\n",
    "        return 0\n",
    "    if (x > b):\n",
    "        return 1\n",
    "    return (x-a)/(b-a)\n",
    "    \n",
    "def exponential_cdf(x, lam=5):\n",
    "    '''\n",
    "    Exponential Distribution\n",
    "    '''\n",
    "    return scipy.stats.expon.cdf(x, scale=1/lam)\n",
    "\n",
    "num_qubits = 1 # adjust this\n",
    "cdf = normal_cdf"
   ]
  },
  {
   "cell_type": "code",
   "execution_count": 111,
   "id": "f3ffcf9f",
   "metadata": {},
   "outputs": [
    {
     "name": "stdout",
     "output_type": "stream",
     "text": [
      "[0.5 0.5]\n"
     ]
    }
   ],
   "source": [
    "num_states = 2**num_qubits\n",
    "state_step = 1 / num_states\n",
    "\n",
    "# Gather all values into a list\n",
    "p = []\n",
    "for i in range(1, num_states + 1):\n",
    "    state = i * state_step\n",
    "    p.append(cdf(state) - cdf(state - state_step))\n",
    "\n",
    "# Normalize the distribution\n",
    "p = np.array(p)\n",
    "p = p / np.sum(p)\n",
    "\n",
    "print(p)"
   ]
  },
  {
   "cell_type": "code",
   "execution_count": 112,
   "id": "89beb8a9",
   "metadata": {},
   "outputs": [
    {
     "name": "stdout",
     "output_type": "stream",
     "text": [
      "\\documentclass[border=2px]{standalone}\n",
      "\n",
      "\\usepackage[braket, qm]{qcircuit}\n",
      "\\usepackage{graphicx}\n",
      "\n",
      "\\begin{document}\n",
      "\\scalebox{1.0}{\n",
      "\\Qcircuit @C=1.0em @R=0.2em @!R { \\\\\n",
      "\t \t\\nghost{{q} :  } & \\lstick{{q} :  } & \\gate{\\mathrm{R_Y}\\,(\\mathrm{\\frac{\\pi}{2}})} \\barrier[0em]{0} & \\qw & \\meter & \\qw & \\qw\\\\\n",
      "\t \t\\nghost{\\mathrm{{c} :  }} & \\lstick{\\mathrm{{c} :  }} & \\lstick{/_{_{1}}} \\cw & \\cw & \\dstick{_{_{\\hspace{0.0em}0}}} \\cw \\ar @{<=} [-1,0] & \\cw & \\cw\\\\\n",
      "\\\\ }}\n",
      "\\end{document}\n"
     ]
    },
    {
     "data": {
      "image/png": "[encoded data removed]",
      "text/plain": [
       "<Figure size 352.675x200.667 with 1 Axes>"
      ]
     },
     "execution_count": 112,
     "metadata": {},
     "output_type": "execute_result"
    }
   ],
   "source": [
    "def create_circuit(p):\n",
    "\n",
    "    qc = QuantumCircuit(num_qubits,num_qubits)\n",
    "\n",
    "    queue = deque()\n",
    "    queue.append((p, [], 1))\n",
    "\n",
    "    while queue:\n",
    "        curr_p, curr_path, prev_sum = queue.popleft()\n",
    "\n",
    "        if len(curr_p) == 1:\n",
    "            continue\n",
    "        \n",
    "        mid = len(curr_p) // 2\n",
    "        left_sum = sum(curr_p[:mid])\n",
    "        theta = 2 * np.arccos(np.sqrt(left_sum / prev_sum))\n",
    "\n",
    "        if len(curr_path) == 0:\n",
    "            qc.ry(theta, num_qubits - 1) \n",
    "        else:\n",
    "            control_qubits = [num_qubits - 1 - i for i in range(len(curr_path))]  \n",
    "            \n",
    "            not_gates = []\n",
    "            for i in range(len(curr_path)):\n",
    "                if curr_path[i]:\n",
    "                    not_gates.append(control_qubits[i])\n",
    "\n",
    "            qc.x(not_gates) if not_gates else None\n",
    "            qc.append(RYGate(theta).control(len(curr_path)), \n",
    "                      control_qubits + [num_qubits - 1 - len(curr_path)])  \n",
    "            qc.x(not_gates) if not_gates else None\n",
    "\n",
    "        qc.barrier()\n",
    "        \n",
    "        queue.append((curr_p[:mid], curr_path + [True], left_sum))\n",
    "        queue.append((curr_p[mid:], curr_path + [False], prev_sum - left_sum))\n",
    "    qc.measure([i for i in range(num_qubits)], [i for i in range(num_qubits)])\n",
    "    return qc\n",
    "\n",
    "qc = create_circuit(p)\n",
    "\n",
    "# NOTE uncomment next line to recieve latex source code\n",
    "print(qc.draw(output=\"latex_source\")) \n",
    "\n",
    "qc.draw('mpl')"
   ]
  },
  {
   "cell_type": "code",
   "execution_count": 113,
   "id": "2dde1332",
   "metadata": {},
   "outputs": [
    {
     "data": {
      "image/png": "[encoded data removed]",
      "text/plain": [
       "<Figure size 640x480 with 1 Axes>"
      ]
     },
     "metadata": {},
     "output_type": "display_data"
    }
   ],
   "source": [
    "import numpy as np\n",
    "import matplotlib.pyplot as plt\n",
    "from qiskit.visualization import plot_histogram\n",
    "from scipy.interpolate import make_interp_spline\n",
    "\n",
    "num_shots = 1000000 # adjust this\n",
    "\n",
    "simulator = AerSimulator()\n",
    "qc_t = transpile(qc, simulator)\n",
    "result = simulator.run(qc_t, shots=num_shots).result()\n",
    "counts = result.get_counts(qc_t)\n",
    "\n",
    "counts_sorted = [value for key, value in sorted(counts.items())]\n",
    "counts_normalized = [value / num_shots for value in counts_sorted]\n",
    "\n",
    "num_states = len(p)\n",
    "x = np.arange(num_states)\n",
    "\n",
    "if len(p) >= 4: # cubic spline - qubits >= 2\n",
    "    spline = make_interp_spline(x, p, k=3)\n",
    "    x_smooth = np.linspace(x.min(), x.max(), 300)\n",
    "    p_smooth = spline(x_smooth)\n",
    "elif len(p) == 2: # linear interpolation - qubits = 1\n",
    "    x_smooth = np.linspace(x[0], x[1], 300)\n",
    "    p_smooth = np.interp(x_smooth, x, p)\n",
    "\n",
    "fig, ax = plt.subplots()\n",
    "bars1 = ax.bar(x, counts_normalized, width=0.4, label='Circuit Results', align='center')\n",
    "ax.plot(x_smooth, p_smooth, label='Expected Distribution', color='red', linewidth=2)\n",
    "ax.set_ylabel('Probability')\n",
    "ax.set_title('Circuit vs. Expected Distribution')\n",
    "ax.set_xticks(x)\n",
    "ax.set_xticklabels([key for key, value in sorted(counts.items())], rotation=45)\n",
    "ax.legend()\n",
    "plt.tight_layout()\n",
    "plt.savefig(\"fig.pdf\", format='pdf', bbox_inches='tight')\n",
    "plt.show()"
   ]
  }
 ],
 "metadata": {
  "kernelspec": {
   "display_name": "cmsc457",
   "language": "python",
   "name": "python3"
  },
  "language_info": {
   "codemirror_mode": {
    "name": "ipython",
    "version": 3
   },
   "file_extension": ".py",
   "mimetype": "text/x-python",
   "name": "python",
   "nbconvert_exporter": "python",
   "pygments_lexer": "ipython3",
   "version": "3.13.2"
  }
 },
 "nbformat": 4,
 "nbformat_minor": 5
}
